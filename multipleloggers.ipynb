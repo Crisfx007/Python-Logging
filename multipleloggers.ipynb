{
 "cells": [
  {
   "cell_type": "code",
   "execution_count": 1,
   "id": "59b342cf",
   "metadata": {},
   "outputs": [],
   "source": [
    "## we can create different loggers for differnt parts of application"
   ]
  },
  {
   "cell_type": "code",
   "execution_count": 4,
   "id": "238282a4",
   "metadata": {},
   "outputs": [],
   "source": [
    "import logging\n",
    "## create a logger for module1\n",
    "logger1 = logging.getLogger(\"module1\")\n",
    "logger1.setLevel(logging.DEBUG)\n",
    "\n",
    "## create for module 2\n",
    "logger2 = logging.getLogger(\"module2\")\n",
    "logger2.setLevel(logging.WARNING)\n",
    "\n",
    "## basic config settings\n",
    "logging.basicConfig(\n",
    "    level=logging.DEBUG,\n",
    "    format='%(asctime)s - %(name)s - %(levelname)s - %(message)s',\n",
    "    datefmt='%Y-%m-%d %H:%M:%S'\n",
    ")"
   ]
  },
  {
   "cell_type": "code",
   "execution_count": 5,
   "id": "1b7f6ad8",
   "metadata": {},
   "outputs": [
    {
     "name": "stderr",
     "output_type": "stream",
     "text": [
      "2025-06-26 08:16:42 - module1 - DEBUG - this is a debug message for module 1\n",
      "2025-06-26 08:16:42 - module2 - WARNING - this is a warning message for module 2\n",
      "2025-06-26 08:16:42 - module2 - ERROR - this is an error message for module 2\n"
     ]
    }
   ],
   "source": [
    "## log messages with different loggers\n",
    "logger1.debug(\"this is a debug message for module 1\")\n",
    "logger2.warning(\"this is a warning message for module 2\")\n",
    "logger2.error(\"this is an error message for module 2\")"
   ]
  },
  {
   "cell_type": "code",
   "execution_count": null,
   "id": "127d07ee",
   "metadata": {},
   "outputs": [],
   "source": []
  }
 ],
 "metadata": {
  "kernelspec": {
   "display_name": "Python 3",
   "language": "python",
   "name": "python3"
  },
  "language_info": {
   "codemirror_mode": {
    "name": "ipython",
    "version": 3
   },
   "file_extension": ".py",
   "mimetype": "text/x-python",
   "name": "python",
   "nbconvert_exporter": "python",
   "pygments_lexer": "ipython3",
   "version": "3.10.0"
  }
 },
 "nbformat": 4,
 "nbformat_minor": 5
}
