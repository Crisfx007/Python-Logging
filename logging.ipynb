{
 "cells": [
  {
   "cell_type": "code",
   "execution_count": 1,
   "id": "d2ff3778",
   "metadata": {},
   "outputs": [],
   "source": [
    "## logging is a crucial aspect of any application, providing a way of tracking events, errors, and operational information\n",
    "## Python's built in logging module offers a flexible framework for emitting log messages from python programs"
   ]
  },
  {
   "cell_type": "code",
   "execution_count": 1,
   "id": "9f10ecd0",
   "metadata": {},
   "outputs": [],
   "source": [
    "import logging"
   ]
  },
  {
   "cell_type": "code",
   "execution_count": 2,
   "id": "15ece515",
   "metadata": {},
   "outputs": [
    {
     "name": "stderr",
     "output_type": "stream",
     "text": [
      "2025-06-26 07:51:48,033 - DEBUG - This is a debug message\n",
      "2025-06-26 07:51:48,033 - INFO - This is an info message\n",
      "2025-06-26 07:51:48,033 - WARNING - This is a warning message\n",
      "2025-06-26 07:51:48,033 - ERROR - This is an error message\n",
      "2025-06-26 07:51:48,033 - CRITICAL - this is a critical message\n"
     ]
    }
   ],
   "source": [
    "## configure the basic logging settings\n",
    "logging.basicConfig(level=logging.DEBUG,\n",
    "format='%(asctime)s - %(levelname)s - %(message)s') ## we can choose anything\n",
    "\n",
    "## log messages with different severity levels\n",
    "logging.debug(\"This is a debug message\")\n",
    "logging.info('This is an info message')\n",
    "logging.warning(\"This is a warning message\")\n",
    "logging.error(\"This is an error message\")\n",
    "logging.critical(\"this is a critical message\")"
   ]
  },
  {
   "cell_type": "code",
   "execution_count": null,
   "id": "a75a774d",
   "metadata": {},
   "outputs": [],
   "source": [
    "## logging works once per session in ipynb files so we need to restart the kernel if we want to change our logging settings"
   ]
  },
  {
   "cell_type": "markdown",
   "id": "7d8dd309",
   "metadata": {},
   "source": [
    "### Log Levels\n",
    "\n",
    "Python’s `logging` module has several log levels indicating the severity of events:\n",
    "\n",
    "- **DEBUG**: Detailed information, typically of interest only when diagnosing problems.  \n",
    "- **INFO**: Confirmation that things are working as expected.  \n",
    "- **WARNING**: An indication that something unexpected happened or indicative of some problem in the near future (e.g., “disk space low”). The software is still working as expected.  \n",
    "- **ERROR**: Due to a more serious problem, the software has not been able to perform some function.  \n",
    "- **CRITICAL**: A very serious error, indicating that the program itself may be unable to continue running.\n"
   ]
  },
  {
   "cell_type": "markdown",
   "id": "ddfa4917",
   "metadata": {},
   "source": []
  },
  {
   "cell_type": "code",
   "execution_count": 3,
   "id": "6c20dca0",
   "metadata": {},
   "outputs": [],
   "source": [
    "import logging"
   ]
  },
  {
   "cell_type": "code",
   "execution_count": null,
   "id": "c5f7d258",
   "metadata": {},
   "outputs": [],
   "source": [
    "## configuring the logging\n",
    "logging.basicConfig(\n",
    "    filename = 'app.log', ## now we have written every information in the file named app.log\n",
    "    filemode='w',\n",
    "    level=logging.DEBUG,\n",
    "    format ='%(asctime)s-%(name)s-%(levelname)s-%(message)s',\n",
    "    datefmt = '%Y-%m-%d %H:%M:%S'\n",
    ")\n",
    "\n",
    "## log messages with different severity levels\n",
    "logging.debug(\"This is a debug message\")\n",
    "logging.info(\"This is an info message\")\n",
    "logging.warning(\"This is a warning message\")\n",
    "logging.error(\"This is an error message\")\n",
    "logging.critical(\"This is a critical message\")"
   ]
  },
  {
   "cell_type": "code",
   "execution_count": null,
   "id": "8a82f1c4",
   "metadata": {},
   "outputs": [],
   "source": [
    "logging.debug(\"This is a debug message\")\n",
    "logging.info(\"This is an info message\")\n",
    "logging.warning(\"This is a warning message\")\n",
    "logging.error(\"This is an error message\")\n",
    "logging.critical(\"This is a critical message\")\n",
    "## messages will keep adding in the app.log file"
   ]
  }
 ],
 "metadata": {
  "kernelspec": {
   "display_name": "Python 3",
   "language": "python",
   "name": "python3"
  },
  "language_info": {
   "codemirror_mode": {
    "name": "ipython",
    "version": 3
   },
   "file_extension": ".py",
   "mimetype": "text/x-python",
   "name": "python",
   "nbconvert_exporter": "python",
   "pygments_lexer": "ipython3",
   "version": "3.10.0"
  }
 },
 "nbformat": 4,
 "nbformat_minor": 5
}
